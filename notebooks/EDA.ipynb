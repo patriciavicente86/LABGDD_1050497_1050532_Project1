{
 "cells": [
  {
   "cell_type": "markdown",
   "id": "1a69ed0b",
   "metadata": {},
   "source": [
    "# First Practical Assignment\n",
    "\n",
    "### 1050497 - Jorge Martins\n",
    "### 1050532 - Patrícia Vicente"
   ]
  },
  {
   "cell_type": "markdown",
   "id": "476618c3",
   "metadata": {},
   "source": [
    "The practical assignment refers to a NYC TCL Taxi Trips"
   ]
  },
  {
   "cell_type": "code",
   "execution_count": null,
   "id": "45ce087d",
   "metadata": {},
   "outputs": [],
   "source": [
    "# Build a fully offline, end-to-end pipeline—from raw TLC extracts to curated Parquet datasets—using only open-source tools.\n",
    "\n",
    "# Demonstrate Lambda/Kappa processing styles in a local environment to simulate batch and streaming behaviors.\n",
    "# Quantify engineering trade-offs affecting usability and performance for common TLC analytics.\n",
    "# Provide a minimal, extensible reference that can be reproduced for teaching and prototyping.\n"
   ]
  }
 ],
 "metadata": {
  "language_info": {
   "name": "python"
  }
 },
 "nbformat": 4,
 "nbformat_minor": 5
}
