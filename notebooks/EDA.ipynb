{
 "cells": [
  {
   "cell_type": "markdown",
   "id": "1a69ed0b",
   "metadata": {},
   "source": [
    "# First Practical Assignment\n",
    "\n",
    "### 1050497 - Jorge Martins\n",
    "### 1050532 - Patrícia Vicente"
   ]
  },
  {
   "cell_type": "markdown",
   "id": "476618c3",
   "metadata": {},
   "source": [
    "The practical assignment refers to a NYC TCL Taxi Trips"
   ]
  },
  {
   "cell_type": "code",
   "execution_count": null,
   "id": "45ce087d",
   "metadata": {},
   "outputs": [],
   "source": [
    "# Build a fully offline, end-to-end pipeline—from raw TLC extracts to curated Parquet datasets—using only open-source tools.\n",
    "\n",
    "# Demonstrate Lambda/Kappa processing styles in a local environment to simulate batch and streaming behaviors.\n",
    "# Quantify engineering trade-offs affecting usability and performance for common TLC analytics.\n",
    "# Provide a minimal, extensible reference that can be reproduced for teaching and prototyping.\n"
   ]
  },
  {
   "cell_type": "markdown",
   "id": "7e87d498",
   "metadata": {},
   "source": [
    "### Hourly demand profile (Yellow vs Green)"
   ]
  },
  {
   "cell_type": "code",
   "execution_count": null,
   "id": "5cea8139",
   "metadata": {},
   "outputs": [],
   "source": [
    "from pyspark.sql import functions as F\n",
    "az = spark.read.parquet(\"lake/gold/agg_zone_hour\")\n",
    "hourly = (az.groupBy(\"service\",\"hour\").agg(F.sum(\"trips\").alias(\"trips\"))\n",
    "            .orderBy(\"service\",\"hour\")).toPandas()"
   ]
  },
  {
   "cell_type": "markdown",
   "id": "2607f573",
   "metadata": {},
   "source": [
    "### Top pickup zones (table)"
   ]
  },
  {
   "cell_type": "code",
   "execution_count": null,
   "id": "2ac6c1f4",
   "metadata": {},
   "outputs": [],
   "source": [
    "top_zones = (az.groupBy(\"service\",\"pulocationid\")\n",
    "               .agg(F.sum(\"trips\").alias(\"trips\"))\n",
    "               .orderBy(F.desc(\"trips\")))\n",
    "top_zones.limit(10).toPandas()"
   ]
  },
  {
   "cell_type": "markdown",
   "id": "17b72bfc",
   "metadata": {},
   "source": [
    "### Avg speed by hour"
   ]
  },
  {
   "cell_type": "code",
   "execution_count": null,
   "id": "9d527384",
   "metadata": {},
   "outputs": [],
   "source": [
    "tf = spark.read.parquet(\"lake/gold/trip_features\")\n",
    "speed = (tf.groupBy(\"service\",\"hour\").agg(F.avg(\"speed_mph\").alias(\"avg_speed_mph\"))\n",
    "           .orderBy(\"service\",\"hour\")).toPandas()"
   ]
  }
 ],
 "metadata": {
  "language_info": {
   "name": "python"
  }
 },
 "nbformat": 4,
 "nbformat_minor": 5
}
