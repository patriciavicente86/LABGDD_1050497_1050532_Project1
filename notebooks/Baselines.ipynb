{
 "cells": [
  {
   "cell_type": "markdown",
   "id": "a1f8f4ef",
   "metadata": {},
   "source": []
  },
  {
   "cell_type": "code",
   "execution_count": null,
   "id": "4a629481",
   "metadata": {},
   "outputs": [],
   "source": [
    "from pyspark.sql import functions as F, Window\n",
    "\n",
    "az = spark.read.parquet(\"lake/gold/agg_zone_hour\")\n",
    "\n",
    "# ensure date column (pickup_date already exists)\n",
    "data = az.select(\"service\",\"pulocationid\",\"hour\",\"pickup_date\",\"trips\")\n",
    "\n",
    "# define split\n",
    "valid_start = \"2024-12-01\"\n",
    "train = data.filter(F.col(\"pickup_date\") < F.lit(valid_start))\n",
    "valid = data.filter(F.col(\"pickup_date\") >= F.lit(valid_start))\n",
    "\n",
    "# join valid with train shifted by 7 days\n",
    "valid_lag = (valid\n",
    "    .join(train.withColumn(\"pickup_date\", F.date_add(\"pickup_date\", 7)),\n",
    "          on=[\"service\",\"pulocationid\",\"hour\",\"pickup_date\"], how=\"left\")\n",
    "    .select(valid[\"*\"], F.col(\"trips\").alias(\"yhat\"))\n",
    ")\n",
    "\n",
    "results = (valid_lag\n",
    "    .withColumn(\"ae\", F.abs(F.col(\"trips\")-F.col(\"yhat\")))\n",
    "    .withColumn(\"ape\", F.when(F.col(\"trips\")>0, F.abs((F.col(\"trips\")-F.col(\"yhat\"))/F.col(\"trips\"))))\n",
    ")\n",
    "\n",
    "metrics = results.agg(F.avg(\"ae\").alias(\"MAE\"), F.avg(\"ape\").alias(\"MAPE\")).toPandas()\n",
    "metrics\n"
   ]
  },
  {
   "cell_type": "code",
   "execution_count": null,
   "id": "23232cbd",
   "metadata": {},
   "outputs": [],
   "source": [
    "train_stats = (train\n",
    "    .withColumn(\"dow\", F.dayofweek(\"pickup_date\"))  # 1=Sun..7=Sat\n",
    "    .groupBy(\"service\",\"pulocationid\",\"hour\",\"dow\")\n",
    "    .agg(F.avg(\"trips\").alias(\"seasonal_mean\")))\n",
    "\n",
    "valid_feat = valid.withColumn(\"dow\", F.dayofweek(\"pickup_date\"))\n",
    "\n",
    "pred = (valid_feat.join(train_stats,\n",
    "        on=[\"service\",\"pulocationid\",\"hour\",\"dow\"], how=\"left\")\n",
    "        .withColumn(\"yhat\", F.col(\"seasonal_mean\")))\n",
    "\n",
    "res = (pred\n",
    "    .withColumn(\"ae\", F.abs(F.col(\"trips\")-F.col(\"yhat\")))\n",
    "    .withColumn(\"ape\", F.when(F.col(\"trips\")>0, F.abs((F.col(\"trips\")-F.col(\"yhat\"))/F.col(\"trips\"))))\n",
    ")\n",
    "\n",
    "metrics_B = res.agg(F.avg(\"ae\").alias(\"MAE\"), F.avg(\"ape\").alias(\"MAPE\")).toPandas()\n",
    "metrics_B"
   ]
  }
 ],
 "metadata": {
  "language_info": {
   "name": "python"
  }
 },
 "nbformat": 4,
 "nbformat_minor": 5
}
